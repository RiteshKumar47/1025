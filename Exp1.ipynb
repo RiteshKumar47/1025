{
  "nbformat": 4,
  "nbformat_minor": 0,
  "metadata": {
    "colab": {
      "provenance": [],
      "authorship_tag": "ABX9TyNzwEngxKgnqCyyY7+WMhTz",
      "include_colab_link": true
    },
    "kernelspec": {
      "name": "python3",
      "display_name": "Python 3"
    },
    "language_info": {
      "name": "python"
    }
  },
  "cells": [
    {
      "cell_type": "markdown",
      "metadata": {
        "id": "view-in-github",
        "colab_type": "text"
      },
      "source": [
        "<a href=\"https://colab.research.google.com/github/RiteshKumar47/1025/blob/main/Exp1.ipynb\" target=\"_parent\"><img src=\"https://colab.research.google.com/assets/colab-badge.svg\" alt=\"Open In Colab\"/></a>"
      ]
    },
    {
      "cell_type": "code",
      "execution_count": null,
      "metadata": {
        "id": "ZX8mzWNbIRsu"
      },
      "outputs": [],
      "source": [
        "def temperature_modeling(a,b,c,time):\n",
        "  temperature = a*time**2  + b*time + c\n",
        "  return temperature"
      ]
    },
    {
      "cell_type": "code",
      "source": [
        "# Hardcoded variables\n",
        "a, b, c=0.1,2,10\n",
        "time = 5"
      ],
      "metadata": {
        "id": "vfk26DBQKGBq"
      },
      "execution_count": null,
      "outputs": []
    },
    {
      "cell_type": "code",
      "source": [
        "#display results\n",
        "print(\"Hard-coded variables for weather modeling\")\n",
        "print(\"Temperature for hardcoded coefficients at time\", time, \"hours:\", temperature_modeling(a,b,c,time))"
      ],
      "metadata": {
        "colab": {
          "base_uri": "https://localhost:8080/"
        },
        "id": "IalFYIZpKXI6",
        "outputId": "823d6ef8-ad3c-4c58-9165-700c1bf8cf7b"
      },
      "execution_count": null,
      "outputs": [
        {
          "output_type": "stream",
          "name": "stdout",
          "text": [
            "Hard-coded variables for weather modeling\n",
            "Temperature for hardcoded coefficients at time 5 hours: 22.5\n"
          ]
        }
      ]
    },
    {
      "cell_type": "code",
      "source": [
        "a=float(input(\"Enter coeffient a:\"))\n",
        "b=float(input(\"enter coeffient b:\"))\n",
        "c=float(input(\"enter coeffient c:\"))"
      ],
      "metadata": {
        "colab": {
          "base_uri": "https://localhost:8080/"
        },
        "id": "qMLP8QAeKxHn",
        "outputId": "8b8bfb2b-702f-480c-9f94-314ade8ec48d"
      },
      "execution_count": null,
      "outputs": [
        {
          "name": "stdout",
          "output_type": "stream",
          "text": [
            "Enter coeffient a:0.1\n",
            "enter coeffient b:2\n",
            "enter coeffient c:10\n"
          ]
        }
      ]
    },
    {
      "cell_type": "code",
      "source": [
        "time=float(input(\"enter time\"))"
      ],
      "metadata": {
        "colab": {
          "base_uri": "https://localhost:8080/"
        },
        "id": "ALh7cVqnK-IZ",
        "outputId": "7f2326d3-cb72-4d73-c317-fe40fcf275c2"
      },
      "execution_count": null,
      "outputs": [
        {
          "name": "stdout",
          "output_type": "stream",
          "text": [
            "enter time4\n"
          ]
        }
      ]
    },
    {
      "cell_type": "code",
      "source": [
        "#variables read from keyboard\n",
        "print(\"Hard-coded variables for weather modeling\")\n",
        "print(\"Temperature form keyboard coefficients at time\", time, \"hours:\", temperature_modeling(a,b,c,time))"
      ],
      "metadata": {
        "colab": {
          "base_uri": "https://localhost:8080/"
        },
        "id": "F-kMr8vZLCQK",
        "outputId": "5c18d6cd-ba93-406a-97e2-ac176437c3ec"
      },
      "execution_count": null,
      "outputs": [
        {
          "output_type": "stream",
          "name": "stdout",
          "text": [
            "Hard-coded variables for weather modeling\n",
            "Temperature form keyboard coefficients at time 4.0 hours: 19.6\n"
          ]
        }
      ]
    },
    {
      "cell_type": "code",
      "source": [
        "# Read coefficients from a file\n",
        "def read_from_file(filename):\n",
        "    with open(filename, 'r') as file:\n",
        "        lines = file.readlines()\n",
        "    coefficients = [tuple (map (float, line.strip().split(','))) for line in lines]\n",
        "    return coefficients"
      ],
      "metadata": {
        "id": "cpUiqOEiLoLW"
      },
      "execution_count": null,
      "outputs": []
    },
    {
      "cell_type": "code",
      "source": [
        "# Example: Solve for a single set of inputs\n",
        "coefficients = read_from_file('/content/file.txt')\n",
        "a, b, c, time = coefficients [0] # First set of coefficients\n",
        "temperature = temperature_modeling(a, b, c, time)\n",
        "print(\"read from a file for weather modeling\")\n",
        "print(\"Temperature form keyboard coefficients at time\", time, \"hours:\", temperature_modeling(a,b,c,time))"
      ],
      "metadata": {
        "colab": {
          "base_uri": "https://localhost:8080/"
        },
        "id": "OK7hrlewNQy2",
        "outputId": "802547cb-2055-44aa-8240-7527714afb4a"
      },
      "execution_count": null,
      "outputs": [
        {
          "output_type": "stream",
          "name": "stdout",
          "text": [
            "read from a file for weather modeling\n",
            "Temperature form keyboard coefficients at time 10.0 hours: 12.0\n"
          ]
        }
      ]
    },
    {
      "cell_type": "code",
      "source": [
        "#Solve for all sets in the file\n",
        "for idx, (a, b, c,time) in enumerate (coefficients):\n",
        "    temperature = temperature_modeling(a, b, c,time)\n",
        "    print(\"Temperature form keyboard coefficients at time\", time, \"hours:\", temperature_modeling(a,b,c,time))"
      ],
      "metadata": {
        "colab": {
          "base_uri": "https://localhost:8080/"
        },
        "id": "PNRMz3j8PK_j",
        "outputId": "106802a3-5d08-4043-ac81-441c4ac5af68"
      },
      "execution_count": null,
      "outputs": [
        {
          "output_type": "stream",
          "name": "stdout",
          "text": [
            "Temperature form keyboard coefficients at time 10.0 hours: 12.0\n"
          ]
        }
      ]
    },
    {
      "cell_type": "code",
      "source": [],
      "metadata": {
        "id": "3UTH7pMgQJAx"
      },
      "execution_count": null,
      "outputs": []
    }
  ]
}